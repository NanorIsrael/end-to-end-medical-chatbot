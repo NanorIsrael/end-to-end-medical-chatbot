{
 "cells": [
  {
   "cell_type": "code",
   "execution_count": 6,
   "metadata": {},
   "outputs": [],
   "source": [
    "# from sentence_transformers import \n",
    "# import ctransformers\n",
    "from langchain.chains import RetrievalQA\n",
    "from langchain.embeddings import HuggingFaceBgeEmbeddings\n",
    "from langchain.document_loaders import PyPDFLoader, DirectoryLoader\n",
    "from langchain.text_splitter import RecursiveCharacterTextSplitter\n",
    "# from langchain.prompts import PromptTemplate\n",
    "from langchain.llms import CTransformers\n",
    "from dotenv import load_dotenv\n",
    "\n",
    "import os\n"
   ]
  },
  {
   "cell_type": "code",
   "execution_count": 7,
   "metadata": {},
   "outputs": [],
   "source": [
    "def load_pdf(data):\n",
    "\tloader = DirectoryLoader(data, glob=\"*.pdf\", loader_cls=PyPDFLoader)\n",
    "\tdocuments = loader.load()\n",
    "\treturn documents"
   ]
  },
  {
   "cell_type": "code",
   "execution_count": 8,
   "metadata": {},
   "outputs": [],
   "source": [
    "extracted_data = load_pdf('data/')"
   ]
  },
  {
   "cell_type": "code",
   "execution_count": 10,
   "metadata": {},
   "outputs": [],
   "source": [
    "def text_split(extracted_data):\n",
    "\ttext_splitter = RecursiveCharacterTextSplitter(chunk_size=1000, chunk_overlap=20)\n",
    "\treturn text_splitter.split_documents(extracted_data)"
   ]
  },
  {
   "cell_type": "code",
   "execution_count": 11,
   "metadata": {},
   "outputs": [
    {
     "name": "stdout",
     "output_type": "stream",
     "text": [
      "3248\n"
     ]
    }
   ],
   "source": [
    "text_chunks = text_split(extracted_data)\n",
    "print(len(text_chunks))"
   ]
  },
  {
   "cell_type": "code",
   "execution_count": 13,
   "metadata": {},
   "outputs": [],
   "source": [
    "model = \"sentence-transformers/sentence-t5-base\"\n",
    "embeddings = HuggingFaceBgeEmbeddings(model_name=model)"
   ]
  },
  {
   "cell_type": "code",
   "execution_count": 14,
   "metadata": {},
   "outputs": [
    {
     "data": {
      "text/plain": [
       "True"
      ]
     },
     "execution_count": 14,
     "metadata": {},
     "output_type": "execute_result"
    }
   ],
   "source": [
    "load_dotenv()\n",
    "# from pinecone_notebooks.colab import Authenticate\n",
    "\n",
    "# Authenticate()"
   ]
  },
  {
   "cell_type": "markdown",
   "metadata": {},
   "source": []
  },
  {
   "cell_type": "code",
   "execution_count": 15,
   "metadata": {},
   "outputs": [
    {
     "data": {
      "text/plain": [
       "<pinecone.data.index.Index at 0x1344e8b80>"
      ]
     },
     "execution_count": 15,
     "metadata": {},
     "output_type": "execute_result"
    }
   ],
   "source": [
    "from pinecone import Pinecone\n",
    "from pinecone import ServerlessSpec\n",
    "import time\n",
    "\n",
    "pc = Pinecone(api_key=os.environ[\"PINECONE_API_KEY\"])\n",
    "index_name = \"medical-chatbot\"\n",
    "existing_indexes = [index_info[\"name\"] for index_info in pc.list_indexes()]\n",
    "\n",
    "if index_name not in existing_indexes:\n",
    "    pc.create_index(\n",
    "        name=index_name,\n",
    "        dimension=768, \n",
    "        metric=\"cosine\", \n",
    "        spec=ServerlessSpec(\n",
    "            cloud=\"aws\", \n",
    "            region=\"us-east-1\"\n",
    "        ) \n",
    "    )\n",
    "    while not pc.describe_index(index_name).status[\"ready\"]:\n",
    "        time.sleep(1)\n",
    "index = pc.Index(index_name)\n",
    "# [t.page_content for t in text_chunks]\n",
    "index"
   ]
  },
  {
   "cell_type": "code",
   "execution_count": 16,
   "metadata": {},
   "outputs": [],
   "source": [
    "from langchain_pinecone import PineconeVectorStore\n",
    "\n",
    "# Function to connect to existing index or create a new one\n",
    "def get_or_create_pinecone_index(index_name, text_chunks, embeddings):\n",
    "    try:\n",
    "        # Attempt to connect to the existing Pinecone index\n",
    "        docsearch = PineconeVectorStore.from_existing_index(index_name, embeddings)\n",
    "        print(\"Connected to existing Pinecone index.\")\n",
    "\n",
    "        query = \"What causes malaria\"\n",
    "        docs = docsearch.similarity_search(query)\n",
    "        # print(docs[0].page_content)\n",
    "        if len(docs) == 0:\n",
    "             docsearch = PineconeVectorStore.from_texts(\n",
    "            [t.page_content for t in text_chunks], embedding=embeddings, index_name=index_name\n",
    "        )\n",
    "    except Exception as e:\n",
    "        print(f\"Failed to connect to existing index: {e}\")\n",
    "        print(\"Creating a new Pinecone index...\")\n",
    "        # Create a new Pinecone index\n",
    "        docsearch = PineconeVectorStore.from_texts(\n",
    "            [t.page_content for t in text_chunks], embedding=embeddings, index_name=index_name\n",
    "        )\n",
    "        print(\"New Pinecone index created.\")\n",
    "    return docsearch\n"
   ]
  },
  {
   "cell_type": "code",
   "execution_count": 17,
   "metadata": {},
   "outputs": [
    {
     "name": "stdout",
     "output_type": "stream",
     "text": [
      "Connected to existing Pinecone index.\n"
     ]
    }
   ],
   "source": [
    "docsearch = get_or_create_pinecone_index(index_name, text_chunks, embeddings)"
   ]
  },
  {
   "cell_type": "code",
   "execution_count": 13,
   "metadata": {},
   "outputs": [],
   "source": [
    "query = \"what causes malaria\""
   ]
  },
  {
   "cell_type": "code",
   "execution_count": 15,
   "metadata": {},
   "outputs": [
    {
     "name": "stdout",
     "output_type": "stream",
     "text": [
      "\n",
      "## Document 0\n",
      "\n",
      "organisms known as protozoa. The only way to getmalaria is to be bitten by a certain type of mosquito thathas bitten someone who has the disease.Thanks to mos-quito control programs, malaria has been eliminated inthe United States, almost all of Europe, and large parts ofCentral and South America. However, mosquito controlhas not worked well in other parts of the world, andmalaria continues to be a major health problem in partsof Africa, Southeast Asia, Latin America, Haiti, theDominican Republic, and some Pacific Islands. Everyyear, some 30,000 Americans and Europeans who travelto these areas get malaria. People planning to travel tothe tropics are often advised to take antimalarial drugsbefore, during, and after their trips, to help them avoidgetting the disease and bringing it home with them.These drugs kill Plasmodium or prevent its growth.\n",
      "In recent years, some strains of Plasmodium have\n",
      "\n",
      "## Document 1\n",
      "\n",
      "but some cases are associated with hereditary diseases.\n",
      "GALE ENCYCLOPEDIA OF MEDICINE 2 59Adrenal gland cancerGEM - 0001 to 0432 - A  10/22/03 1:41 PM  Page 59\n",
      "\n",
      "## Document 2\n",
      "\n",
      "A doctor should be notified whenever any of the fol-\n",
      "lowing occurs:\n",
      "• fever or relentless itching develop during a flare\n",
      "GALE ENCYCLOPEDIA OF MEDICINE 2 405Atopic dermatitisGEM - 0001 to 0432 - A  10/22/03 1:43 PM  Page 405\n",
      "\n",
      "## Document 3\n",
      "\n",
      "cellularly and kill the cell in ways that are still not com-pletely understood. In addition to killing some lympho-cytes directly, the AIDS virus disrupts the functioning of\n",
      "GALE ENCYCLOPEDIA OF MEDICINE 2 75AIDS\n",
      "Mature HIV-1 viruses (above) and the lymphocyte from which they emerged (below).Two immature viruses can be seen bud-\n",
      "ding on the surface of the lymphocyte (right of center). (Photograph by Scott Camazir, Photo Researchers, Inc. Reproduced by\n",
      "permission.)GEM - 0001 to 0432 - A  10/22/03 1:41 PM  Page 75\n"
     ]
    }
   ],
   "source": [
    "retriever = docsearch.as_retriever(search_type=\"mmr\")\n",
    "matched_docs = retriever.invoke(query)\n",
    "for i, d in enumerate(matched_docs):\n",
    "    print(f\"\\n## Document {i}\\n\")\n",
    "    print(d.page_content)"
   ]
  },
  {
   "cell_type": "code",
   "execution_count": 67,
   "metadata": {},
   "outputs": [
    {
     "name": "stdout",
     "output_type": "stream",
     "text": [
      "1. organisms known as protozoa. The only way to getmalaria is to be bitten by a certain type of mosquito thathas bitten someone who has the disease.Thanks to mos-quito control programs, malaria has been eliminated inthe United States, almost all of Europe, and large parts ofCentral and South America. However, mosquito controlhas not worked well in other parts of the world, andmalaria continues to be a major health problem in partsof Africa, Southeast Asia, Latin America, Haiti, theDominican Republic, and some Pacific Islands. Everyyear, some 30,000 Americans and Europeans who travelto these areas get malaria. People planning to travel tothe tropics are often advised to take antimalarial drugsbefore, during, and after their trips, to help them avoidgetting the disease and bringing it home with them.These drugs kill Plasmodium or prevent its growth.\n",
      "In recent years, some strains of Plasmodium have \n",
      "\n",
      "2. but some cases are associated with hereditary diseases.\n",
      "GALE ENCYCLOPEDIA OF MEDICINE 2 59Adrenal gland cancerGEM - 0001 to 0432 - A  10/22/03 1:41 PM  Page 59 \n",
      "\n"
     ]
    }
   ],
   "source": [
    "found_docs = docsearch.max_marginal_relevance_search(query, k=2, fetch_k=10)\n",
    "for i, doc in enumerate(found_docs):\n",
    "    print(f\"{i + 1}.\", doc.page_content, \"\\n\")"
   ]
  },
  {
   "cell_type": "code",
   "execution_count": 18,
   "metadata": {},
   "outputs": [],
   "source": [
    "# from langchain.chains import RetrievalQA\n",
    "from langchain import HuggingFaceHub\n",
    "\n",
    "model = \"google/flan-t5-base\"\n",
    "\n",
    "# Initialize HuggingFaceHub with your API token\n",
    "hf_hub = HuggingFaceHub(\n",
    "    repo_id=\"google/flan-t5-base\",\n",
    ")\n",
    "retriever = docsearch.as_retriever();\n",
    "qa_chain = RetrievalQA.from_chain_type(llm=hf_hub, chain_type=\"stuff\", retriever=retriever, return_source_documents=True)"
   ]
  },
  {
   "cell_type": "code",
   "execution_count": 73,
   "metadata": {},
   "outputs": [
    {
     "name": "stderr",
     "output_type": "stream",
     "text": [
      "/Users/compozerisrael/Library/Python/3.8/lib/python/site-packages/langchain_core/_api/deprecation.py:139: LangChainDeprecationWarning: The method `Chain.__call__` was deprecated in langchain 0.1.0 and will be removed in 0.3.0. Use invoke instead.\n",
      "  warn_deprecated(\n"
     ]
    },
    {
     "name": "stdout",
     "output_type": "stream",
     "text": [
      "{'query': 'What causes malaria', 'result': 'Plasmodium', 'source_documents': [Document(page_content='organisms known as protozoa. The only way to getmalaria is to be bitten by a certain type of mosquito thathas bitten someone who has the disease.Thanks to mos-quito control programs, malaria has been eliminated inthe United States, almost all of Europe, and large parts ofCentral and South America. However, mosquito controlhas not worked well in other parts of the world, andmalaria continues to be a major health problem in partsof Africa, Southeast Asia, Latin America, Haiti, theDominican Republic, and some Pacific Islands. Everyyear, some 30,000 Americans and Europeans who travelto these areas get malaria. People planning to travel tothe tropics are often advised to take antimalarial drugsbefore, during, and after their trips, to help them avoidgetting the disease and bringing it home with them.These drugs kill Plasmodium or prevent its growth.\\nIn recent years, some strains of Plasmodium have', metadata={'page': 299.0, 'source': 'data/Medical_book.pdf'}), Document(page_content='malarial drug, its strength, and the form in which it isbeing used (such as tablet or injection). The dosage mayalso be different for different people. Check with thephysician who prescribed the drug or the pharmacist whofilled the prescription for the correct dosage. Always takethis medicine exactly as directed, and keep taking it forthe full time of treatment. If the drug is being taken totreat malaria, do not stop taking it just because symptomsbegin to improve. Symptoms may return if the drug isstopped too soon. Never take larger or more frequentdoses than the physician has ordered, and do not take thedrug for longer than directed.\\nTravelers taking this medicine to prevent malaria may\\nbe told to take it for one to two weeks before their trip andfor 4 weeks afterward, as well as for the whole time theyare away. It is important to follow these directions.\\nAntimalarial drugs work best when they are taken on', metadata={'page': 299.0, 'source': 'data/Medical_book.pdf'}), Document(page_content='become resistant to antimalarial drugs, and medicalresearchers have stepped up efforts to develop a malariavaccine. In early1997, researchers reported encouragingresults from a small study of one vaccine and planned totest the vaccine in Africa.\\nDescription\\nAntimalarial drugs are available only with a physi-\\ncian’s prescription. They come in tablet, capsule, andinjectable forms. Among the commonly used antimalari-al drugs are chloroquine (Aralen), mefloquine (Lariam),primaquine, pyrimethamine (Daraprim), and quinine.\\nRecommended dosage\\nRecommended dosage depends on the type of anti-', metadata={'page': 299.0, 'source': 'data/Medical_book.pdf'}), Document(page_content='right away. Switching to a different antimalarial drug may\\nbe an alternative and can allow the side effects to stop.\\nAnyone taking antimalarial drugs to prevent malaria\\nwho develops a fever or flu-like symptoms while taking\\nthe medicine or within two to three months after travel-ing to an area where malaria is common should call aphysician immediately.\\nIf the medicine is being taken to treat malaria, and\\nsymptoms stay the same or get worse, check with thephysician who prescribed the medicine.\\nPatients who take this medicine over a long time\\nneed to have a physician check them periodically forunwanted side effects.\\nBabies and children are especially sensitive to the\\nantimalarial drug chloroquine. Not only are they morelikely to have side effects from the medicine, but they arealso at greater risk of being harmed by an overdose. Asingle 300-mg tablet could kill a small child. Keep this\\nmedicine out of the reach of children. Use safety vials.\\nSpecial conditions', metadata={'page': 300.0, 'source': 'data/Medical_book.pdf'})]}\n"
     ]
    }
   ],
   "source": [
    "# query = \"how much money did microsoft raise?\"\n",
    "\n",
    "results = qa_chain(query)\n",
    "print(results)\n",
    "# process_llm_response()"
   ]
  },
  {
   "cell_type": "code",
   "execution_count": 22,
   "metadata": {},
   "outputs": [],
   "source": [
    "\n",
    "promptTemplate = '''\n",
    "Use the following piece of information to answer the user's question.\n",
    "If you don't know the answer, just say that you don't know, don't try to make up an answer.\n",
    "\n",
    "Context: {context}\n",
    "Question: {question}\n",
    "Only return the helpful answer below and nothing else\n",
    "Helpful answer:\n",
    "'''"
   ]
  },
  {
   "cell_type": "code",
   "execution_count": null,
   "metadata": {},
   "outputs": [],
   "source": []
  },
  {
   "cell_type": "code",
   "execution_count": 23,
   "metadata": {},
   "outputs": [],
   "source": [
    "from langchain import PromptTemplate\n",
    "\n",
    "PROMPT = PromptTemplate(template=promptTemplate, input=[\"context\", \"question\"])\n",
    "chain_type_kwargs={\"prompt\": PROMPT}"
   ]
  },
  {
   "cell_type": "code",
   "execution_count": null,
   "metadata": {},
   "outputs": [],
   "source": [
    "# model = \"google/flan-t5-base\"\n",
    "from langchain_community.llms import CTransformers\n",
    "model_path = 'model/models--TheBloke--Llama-2-13B-chat-GGML/snapshots/3140827b4dfcb6b562cd87ee3d7f07109b014dd0/llama-2-13b-chat.ggmlv3.q5_1.bin'\n",
    "llm = CTransformers(model=model_path, model_type=\"llama\")\n",
    "\n",
    "print(llm.invoke('AI is going to'))\n"
   ]
  },
  {
   "cell_type": "code",
   "execution_count": 24,
   "metadata": {},
   "outputs": [],
   "source": [
    "from langchain import HuggingFaceHub\n",
    "\n",
    "model = \"google/flan-t5-base\"\n",
    "\n",
    "# Initialize HuggingFaceHub with your API token\n",
    "hf_hub = HuggingFaceHub(\n",
    "    repo_id=\"google/flan-t5-base\",\n",
    ")"
   ]
  },
  {
   "cell_type": "code",
   "execution_count": 25,
   "metadata": {},
   "outputs": [],
   "source": [
    "retriever = docsearch.as_retriever(search_kwargs={'k': 2});\n",
    "qa_chain = RetrievalQA.from_chain_type(\n",
    "\tllm=hf_hub,\n",
    "\tchain_type=\"stuff\",\n",
    "\tretriever=retriever,\n",
    "\treturn_source_documents=True,\n",
    "\tchain_type_kwargs=chain_type_kwargs\n",
    ")"
   ]
  },
  {
   "cell_type": "code",
   "execution_count": 26,
   "metadata": {},
   "outputs": [
    {
     "name": "stderr",
     "output_type": "stream",
     "text": [
      "/Users/compozerisrael/Library/Python/3.8/lib/python/site-packages/langchain_core/_api/deprecation.py:139: LangChainDeprecationWarning: The method `Chain.__call__` was deprecated in langchain 0.1.0 and will be removed in 0.3.0. Use invoke instead.\n",
      "  warn_deprecated(\n"
     ]
    },
    {
     "name": "stdout",
     "output_type": "stream",
     "text": [
      "Response:  acne is a bacterial infection\n"
     ]
    }
   ],
   "source": [
    "# while True:\n",
    "# \tuser_input=input(f\">>>\")\n",
    "result = qa_chain({\"query\": \"what is acne?\"})\n",
    "print(\"Response: \", result[\"result\"])"
   ]
  },
  {
   "cell_type": "code",
   "execution_count": null,
   "metadata": {},
   "outputs": [],
   "source": []
  }
 ],
 "metadata": {
  "kernelspec": {
   "display_name": "venv",
   "language": "python",
   "name": "python3"
  },
  "language_info": {
   "codemirror_mode": {
    "name": "ipython",
    "version": 3
   },
   "file_extension": ".py",
   "mimetype": "text/x-python",
   "name": "python",
   "nbconvert_exporter": "python",
   "pygments_lexer": "ipython3",
   "version": "3.8.19"
  }
 },
 "nbformat": 4,
 "nbformat_minor": 2
}
